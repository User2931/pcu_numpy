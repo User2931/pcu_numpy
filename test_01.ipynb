{
 "cells": [
  {
   "cell_type": "markdown",
   "id": "acda0491",
   "metadata": {},
   "source": [
    "# 설명"
   ]
  },
  {
   "cell_type": "code",
   "execution_count": 1,
   "id": "e77db50c",
   "metadata": {},
   "outputs": [],
   "source": [
    "var = 100"
   ]
  },
  {
   "cell_type": "code",
   "execution_count": 2,
   "id": "e0ea6b08",
   "metadata": {},
   "outputs": [
    {
     "name": "stdout",
     "output_type": "stream",
     "text": [
      "100\n"
     ]
    }
   ],
   "source": [
    "print(var)"
   ]
  },
  {
   "cell_type": "code",
   "execution_count": 3,
   "id": "554d1ea9",
   "metadata": {},
   "outputs": [
    {
     "name": "stdout",
     "output_type": "stream",
     "text": [
      " 참입니다. \n"
     ]
    }
   ],
   "source": [
    "if 10 > 5 :\n",
    "    print (\" 참입니다. \")"
   ]
  },
  {
   "cell_type": "code",
   "execution_count": 9,
   "id": "58f783c1",
   "metadata": {},
   "outputs": [],
   "source": [
    "result = 0"
   ]
  },
  {
   "cell_type": "code",
   "execution_count": 10,
   "id": "f1faf9b9",
   "metadata": {},
   "outputs": [
    {
     "data": {
      "text/plain": [
       "10"
      ]
     },
     "execution_count": 10,
     "metadata": {},
     "output_type": "execute_result"
    }
   ],
   "source": [
    "for i in range (1,5) :\n",
    "    result += i\n",
    "result"
   ]
  },
  {
   "cell_type": "code",
   "execution_count": 9,
   "id": "7923bdeb",
   "metadata": {},
   "outputs": [],
   "source": [
    "aaa = 0"
   ]
  },
  {
   "cell_type": "code",
   "execution_count": 10,
   "id": "622d5458",
   "metadata": {},
   "outputs": [],
   "source": [
    "i = 1"
   ]
  },
  {
   "cell_type": "code",
   "execution_count": 11,
   "id": "e017ecba",
   "metadata": {},
   "outputs": [
    {
     "data": {
      "text/plain": [
       "10"
      ]
     },
     "execution_count": 11,
     "metadata": {},
     "output_type": "execute_result"
    }
   ],
   "source": [
    "while i < 5 :\n",
    "    aaa += i\n",
    "    i += 1\n",
    "aaa"
   ]
  },
  {
   "cell_type": "code",
   "execution_count": 12,
   "id": "a0f8e5ba",
   "metadata": {},
   "outputs": [],
   "source": [
    "def func(x) :\n",
    "    return x + 100"
   ]
  },
  {
   "cell_type": "code",
   "execution_count": 13,
   "id": "6bf53529",
   "metadata": {},
   "outputs": [
    {
     "data": {
      "text/plain": [
       "300"
      ]
     },
     "execution_count": 13,
     "metadata": {},
     "output_type": "execute_result"
    }
   ],
   "source": [
    "func(200)"
   ]
  },
  {
   "cell_type": "code",
   "execution_count": 14,
   "id": "fc4c3ba7",
   "metadata": {},
   "outputs": [],
   "source": [
    "def func_p(x=10,y=10) :\n",
    "    return x + y"
   ]
  },
  {
   "cell_type": "code",
   "execution_count": 17,
   "id": "b4e5db62",
   "metadata": {},
   "outputs": [
    {
     "data": {
      "text/plain": [
       "20"
      ]
     },
     "execution_count": 17,
     "metadata": {},
     "output_type": "execute_result"
    }
   ],
   "source": [
    "func_p()"
   ]
  },
  {
   "cell_type": "code",
   "execution_count": 19,
   "id": "3402fc4f",
   "metadata": {},
   "outputs": [
    {
     "data": {
      "text/plain": [
       "12"
      ]
     },
     "execution_count": 19,
     "metadata": {},
     "output_type": "execute_result"
    }
   ],
   "source": [
    "func_p(6,6)"
   ]
  },
  {
   "cell_type": "code",
   "execution_count": 20,
   "id": "0ed9cb5a",
   "metadata": {},
   "outputs": [
    {
     "data": {
      "text/plain": [
       "30"
      ]
     },
     "execution_count": 20,
     "metadata": {},
     "output_type": "execute_result"
    }
   ],
   "source": [
    "func_p(20)"
   ]
  },
  {
   "cell_type": "code",
   "execution_count": null,
   "id": "d3bcff69",
   "metadata": {},
   "outputs": [],
   "source": []
  }
 ],
 "metadata": {
  "kernelspec": {
   "display_name": "Python 3 (ipykernel)",
   "language": "python",
   "name": "python3"
  },
  "language_info": {
   "codemirror_mode": {
    "name": "ipython",
    "version": 3
   },
   "file_extension": ".py",
   "mimetype": "text/x-python",
   "name": "python",
   "nbconvert_exporter": "python",
   "pygments_lexer": "ipython3",
   "version": "3.9.7"
  }
 },
 "nbformat": 4,
 "nbformat_minor": 5
}
